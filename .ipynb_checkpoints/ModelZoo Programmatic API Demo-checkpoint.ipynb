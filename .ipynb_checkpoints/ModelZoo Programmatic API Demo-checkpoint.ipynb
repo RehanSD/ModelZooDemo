{
 "cells": [
  {
   "cell_type": "markdown",
   "metadata": {},
   "source": [
    "<img src=\"programmable.png\" style=\"height:70%;width:70%;\">"
   ]
  },
  {
   "cell_type": "markdown",
   "metadata": {},
   "source": [
    "We start by importing our pip package, `modelzoo`. If you would like to follow along, feel free to do so using the Jupyter Notebooks provided. Make sure to run `pip install modelzoo` to install the package though!"
   ]
  },
  {
   "cell_type": "code",
   "execution_count": null,
   "metadata": {},
   "outputs": [],
   "source": [
    "from modelzoo.admin import ModelZooConnection"
   ]
  },
  {
   "cell_type": "markdown",
   "metadata": {},
   "source": [
    "## Connecting to a ModelZoo Instance\n",
    "We first need to connect our client API to a modelzoo instance. It is important to note that we connect to the address of the gRPC server rather than the frontend's address."
   ]
  },
  {
   "cell_type": "code",
   "execution_count": null,
   "metadata": {},
   "outputs": [],
   "source": [
    "conn = ModelZooConnection(address=\"52.40.213.134:9000\")"
   ]
  },
  {
   "cell_type": "markdown",
   "metadata": {},
   "source": [
    "Let's take a look at all of the models!"
   ]
  },
  {
   "cell_type": "code",
   "execution_count": null,
   "metadata": {},
   "outputs": [],
   "source": [
    "conn.list_all_models(expand_metadata=True)"
   ]
  },
  {
   "cell_type": "markdown",
   "metadata": {},
   "source": [
    "We see all of the models from when we were on the UI, and all of the associated metadata!\n",
    "\n",
    "Let's run a similar request to the one we did last time.\n",
    "\n",
    "We'll be running Vision Classification on this image:\n",
    "<img src=\"hd.jpg\" style=\"width:50%;height:50%;\">"
   ]
  },
  {
   "cell_type": "code",
   "execution_count": null,
   "metadata": {},
   "outputs": [],
   "source": [
    "import modelzoo.sugar as sugar\n",
    "payload = conn.image_inference(\"ImageNet Classification ResNet152\", \"hd.jpg\")\n",
    "sugar.table_input(payload.table)"
   ]
  },
  {
   "cell_type": "markdown",
   "metadata": {},
   "source": [
    "Now, we will filter all of our models on some predicate, in this example, whether `ImageNet` is in the name, or its category is `vision classification`. This helps us narrow down what models on ModelZoo.Live actually pertain to the task we are trying to solve."
   ]
  },
  {
   "cell_type": "code",
   "execution_count": null,
   "metadata": {},
   "outputs": [],
   "source": [
    "models = conn.list_all_models(expand_metadata=True)\n",
    "models_to_query = set()\n",
    "g = []\n",
    "for idx, df in models.groupby(level=0):\n",
    "    if 'ImageNet' in idx:\n",
    "        models_to_query.add(idx)\n",
    "    df = df.droplevel(0)\n",
    "    if df.loc['category', 'value'] == 'vision classification':\n",
    "        models_to_query.add(idx)\n",
    "models = list(models_to_query)\n",
    "models"
   ]
  },
  {
   "cell_type": "markdown",
   "metadata": {},
   "source": [
    "We'll run our models on some simple data at first - fairly clean images of food.\n",
    "\n",
    "First, lets take a look at some of the images."
   ]
  },
  {
   "cell_type": "code",
   "execution_count": null,
   "metadata": {},
   "outputs": [],
   "source": [
    "import PIL\n",
    "from IPython.display import display, Image\n",
    "\n",
    "images = ['Cheeseburger.jpg', 'guacamole.jpg', 'butternut.jpeg']\n",
    "def display_img(im):\n",
    "    im = PIL.Image.open(im)\n",
    "    bio = BytesIO()\n",
    "    im.save(bio, format='png')\n",
    "    display(Image(bio.getvalue(), format='png', width='300'))\n",
    "\n",
    "for im in images:\n",
    "    display_img(im)"
   ]
  },
  {
   "cell_type": "code",
   "execution_count": null,
   "metadata": {},
   "outputs": [],
   "source": [
    "data = ['Cheeseburger.jpg', 'guacamole.jpg', 'gastronomy.jpg']\n",
    "labels=['cheeseburger', 'guacamole', 'carpaccio']"
   ]
  },
  {
   "cell_type": "code",
   "execution_count": null,
   "metadata": {},
   "outputs": [],
   "source": [
    "from modelzoo.sugar import table_input\n",
    "import numpy as np\n",
    "import itertools\n",
    "from tqdm import tqdm\n",
    "probs = {m:0 for m in models}\n",
    "for model, (image, label) in tqdm(list(itertools.product(models, zip(data, labels)))):\n",
    "        result = conn.image_inference(model, image)\n",
    "        out = table_input(result.table)\n",
    "        out.category = [word.split(',')[0] for word in out.category]\n",
    "        out.probability = out.probability.astype(np.float32)\n",
    "        if not out[out.category == label].empty:\n",
    "            probs[model] += out[out.category == label]['probability'].values[0]\n",
    "probs"
   ]
  },
  {
   "cell_type": "markdown",
   "metadata": {},
   "source": [
    "We see that all of our models have a 100% accuracy on our small dataset.\n",
    "\n",
    "Let's say we decide to ensemble all three models, and want to upload this back to ModelZoo.Live"
   ]
  },
  {
   "cell_type": "markdown",
   "metadata": {},
   "source": [
    "# Uniform Interface for Model Evaluation\n",
    "Lets walk through how to define a function to upload to ModelZoo."
   ]
  },
  {
   "cell_type": "code",
   "execution_count": null,
   "metadata": {},
   "outputs": [],
   "source": [
    "# from modelzoo.sugar import register_type, image_input, table_output\n",
    "# @register_type(image_input, table_output)\n",
    "from PIL import Image\n",
    "def ensemble(inp: Image, metadata):\n",
    "    from modelzoo.admin import ModelZooConnection\n",
    "    from modelzoo.sugar import table_input\n",
    "    import numpy as np\n",
    "    import pandas as pd\n",
    "    models = ['ImageNet Classification ResNet18', 'ImageNet Classification ResNet50',\n",
    "              'ImageNet Classification ResNet152']\n",
    "    tables = []\n",
    "    for m in models:\n",
    "        payload = conn.image_inference(m, inp)\n",
    "        tables.append(sugar.table_input(payload.table))\n",
    "    new_df = pd.concat(tables,sort=True).reset_index().drop('index', axis=1)\n",
    "    new_df.probability = new_df.probability.astype(np.float32)\n",
    "    new_df.probability /= np.sum(new_df.probability.values)\n",
    "    new_df = new_df.drop(columns='rank')\n",
    "    return new_df"
   ]
  },
  {
   "cell_type": "code",
   "execution_count": null,
   "metadata": {},
   "outputs": [],
   "source": [
    "a = Image.open(\"gastronomy.jpg\")\n",
    "a"
   ]
  },
  {
   "cell_type": "code",
   "execution_count": null,
   "metadata": {},
   "outputs": [],
   "source": [
    "ensemble(a, {\"category\": \"vision classification ensemble\"})"
   ]
  }
 ],
 "metadata": {
  "kernelspec": {
   "display_name": "Python 3",
   "language": "python",
   "name": "python3"
  },
  "language_info": {
   "codemirror_mode": {
    "name": "ipython",
    "version": 3
   },
   "file_extension": ".py",
   "mimetype": "text/x-python",
   "name": "python",
   "nbconvert_exporter": "python",
   "pygments_lexer": "ipython3",
   "version": "3.6.8"
  }
 },
 "nbformat": 4,
 "nbformat_minor": 2
}
